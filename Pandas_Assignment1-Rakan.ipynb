{
 "cells": [
  {
   "cell_type": "code",
   "execution_count": 1,
   "id": "d3aaed2d",
   "metadata": {},
   "outputs": [],
   "source": [
    "import pandas as pd"
   ]
  },
  {
   "cell_type": "markdown",
   "id": "c8502047",
   "metadata": {},
   "source": [
    "## Q1: Create a Series with indexes = 1, 2, 3 and has three names."
   ]
  },
  {
   "cell_type": "code",
   "execution_count": 2,
   "id": "dc122631",
   "metadata": {},
   "outputs": [
    {
     "data": {
      "text/plain": [
       "1    Rakan\n",
       "2    Rayan\n",
       "3    Razan\n",
       "dtype: object"
      ]
     },
     "execution_count": 2,
     "metadata": {},
     "output_type": "execute_result"
    }
   ],
   "source": [
    "index = [1,2,3]\n",
    "names = [\"Rakan\", \"Rayan\", \"Razan\"]\n",
    "s = pd.Series(names, index=index)\n",
    "s"
   ]
  },
  {
   "cell_type": "markdown",
   "id": "443e73f6",
   "metadata": {},
   "source": [
    "## Q2: Change indexes to 11, 12, 13."
   ]
  },
  {
   "cell_type": "code",
   "execution_count": 3,
   "id": "ae224dba",
   "metadata": {},
   "outputs": [
    {
     "data": {
      "text/plain": [
       "11    Rakan\n",
       "12    Rayan\n",
       "13    Razan\n",
       "dtype: object"
      ]
     },
     "execution_count": 3,
     "metadata": {},
     "output_type": "execute_result"
    }
   ],
   "source": [
    "s.index = [11,12,13]\n",
    "s"
   ]
  },
  {
   "cell_type": "markdown",
   "id": "7f562099",
   "metadata": {},
   "source": [
    "## Q3: Retrieve First and second elements."
   ]
  },
  {
   "cell_type": "code",
   "execution_count": 4,
   "id": "bbe9dee3",
   "metadata": {},
   "outputs": [
    {
     "name": "stdout",
     "output_type": "stream",
     "text": [
      "Rakan\n",
      "Rayan\n"
     ]
    }
   ],
   "source": [
    "print(s[11])\n",
    "print(s[12])"
   ]
  },
  {
   "cell_type": "markdown",
   "id": "c771754d",
   "metadata": {},
   "source": [
    "## Q4: Add duplicate elements, then remove the duplication."
   ]
  },
  {
   "cell_type": "code",
   "execution_count": 5,
   "id": "cf5a1d1a",
   "metadata": {},
   "outputs": [
    {
     "name": "stdout",
     "output_type": "stream",
     "text": [
      "11    Rakan\n",
      "12    Rayan\n",
      "13    Razan\n",
      "14    Razan\n",
      "15    Rayan\n",
      "dtype: object\n"
     ]
    },
    {
     "data": {
      "text/plain": [
       "11    Rakan\n",
       "12    Rayan\n",
       "13    Razan\n",
       "dtype: object"
      ]
     },
     "execution_count": 5,
     "metadata": {},
     "output_type": "execute_result"
    }
   ],
   "source": [
    "y = pd.Series({14:\"Razan\", 15:\"Rayan\"})\n",
    "s2 = pd.concat([s,y])\n",
    "print(s2)\n",
    "s2 = s2.drop_duplicates()\n",
    "s2"
   ]
  },
  {
   "cell_type": "markdown",
   "id": "329164fe",
   "metadata": {},
   "source": [
    "## Q5: Create a Students DataFrame has three columns (ID, Name, GPA)."
   ]
  },
  {
   "cell_type": "code",
   "execution_count": 6,
   "id": "873e1727",
   "metadata": {},
   "outputs": [
    {
     "data": {
      "text/html": [
       "<div>\n",
       "<style scoped>\n",
       "    .dataframe tbody tr th:only-of-type {\n",
       "        vertical-align: middle;\n",
       "    }\n",
       "\n",
       "    .dataframe tbody tr th {\n",
       "        vertical-align: top;\n",
       "    }\n",
       "\n",
       "    .dataframe thead th {\n",
       "        text-align: right;\n",
       "    }\n",
       "</style>\n",
       "<table border=\"1\" class=\"dataframe\">\n",
       "  <thead>\n",
       "    <tr style=\"text-align: right;\">\n",
       "      <th></th>\n",
       "      <th>ID</th>\n",
       "      <th>Name</th>\n",
       "      <th>GPA</th>\n",
       "    </tr>\n",
       "  </thead>\n",
       "  <tbody>\n",
       "    <tr>\n",
       "      <th>0</th>\n",
       "      <td>1</td>\n",
       "      <td>Rayan</td>\n",
       "      <td>4.5</td>\n",
       "    </tr>\n",
       "    <tr>\n",
       "      <th>1</th>\n",
       "      <td>2</td>\n",
       "      <td>Razan</td>\n",
       "      <td>4.9</td>\n",
       "    </tr>\n",
       "    <tr>\n",
       "      <th>2</th>\n",
       "      <td>3</td>\n",
       "      <td>Rakan</td>\n",
       "      <td>2.5</td>\n",
       "    </tr>\n",
       "  </tbody>\n",
       "</table>\n",
       "</div>"
      ],
      "text/plain": [
       "   ID   Name  GPA\n",
       "0   1  Rayan  4.5\n",
       "1   2  Razan  4.9\n",
       "2   3  Rakan  2.5"
      ]
     },
     "execution_count": 6,
     "metadata": {},
     "output_type": "execute_result"
    }
   ],
   "source": [
    " students = {\n",
    "         \"ID\":[1,2,3],\n",
    "         \"Name\":[\"Rayan\", \"Razan\", \"Rakan\"],\n",
    "         \"GPA\":[4.5, 4.9, 2.5 ]\n",
    " }\n",
    "studentsDF = pd.DataFrame(students, columns=[\"ID\", \"Name\", \"GPA\"])\n",
    "studentsDF"
   ]
  },
  {
   "cell_type": "markdown",
   "id": "2808d244",
   "metadata": {},
   "source": [
    "## Q6: Read educ_figdp_1_Data.csv file and print the head."
   ]
  },
  {
   "cell_type": "code",
   "execution_count": 7,
   "id": "3b0baf98",
   "metadata": {},
   "outputs": [
    {
     "data": {
      "text/html": [
       "<div>\n",
       "<style scoped>\n",
       "    .dataframe tbody tr th:only-of-type {\n",
       "        vertical-align: middle;\n",
       "    }\n",
       "\n",
       "    .dataframe tbody tr th {\n",
       "        vertical-align: top;\n",
       "    }\n",
       "\n",
       "    .dataframe thead th {\n",
       "        text-align: right;\n",
       "    }\n",
       "</style>\n",
       "<table border=\"1\" class=\"dataframe\">\n",
       "  <thead>\n",
       "    <tr style=\"text-align: right;\">\n",
       "      <th></th>\n",
       "      <th>TIME</th>\n",
       "      <th>GEO</th>\n",
       "      <th>INDIC_ED</th>\n",
       "      <th>Value</th>\n",
       "      <th>Flag and Footnotes</th>\n",
       "    </tr>\n",
       "  </thead>\n",
       "  <tbody>\n",
       "    <tr>\n",
       "      <th>0</th>\n",
       "      <td>2000</td>\n",
       "      <td>European Union (28 countries)</td>\n",
       "      <td>Total public expenditure on education as % of ...</td>\n",
       "      <td>:</td>\n",
       "      <td>NaN</td>\n",
       "    </tr>\n",
       "    <tr>\n",
       "      <th>1</th>\n",
       "      <td>2001</td>\n",
       "      <td>European Union (28 countries)</td>\n",
       "      <td>Total public expenditure on education as % of ...</td>\n",
       "      <td>:</td>\n",
       "      <td>NaN</td>\n",
       "    </tr>\n",
       "    <tr>\n",
       "      <th>2</th>\n",
       "      <td>2002</td>\n",
       "      <td>European Union (28 countries)</td>\n",
       "      <td>Total public expenditure on education as % of ...</td>\n",
       "      <td>5.00</td>\n",
       "      <td>e</td>\n",
       "    </tr>\n",
       "    <tr>\n",
       "      <th>3</th>\n",
       "      <td>2003</td>\n",
       "      <td>European Union (28 countries)</td>\n",
       "      <td>Total public expenditure on education as % of ...</td>\n",
       "      <td>5.03</td>\n",
       "      <td>e</td>\n",
       "    </tr>\n",
       "    <tr>\n",
       "      <th>4</th>\n",
       "      <td>2004</td>\n",
       "      <td>European Union (28 countries)</td>\n",
       "      <td>Total public expenditure on education as % of ...</td>\n",
       "      <td>4.95</td>\n",
       "      <td>e</td>\n",
       "    </tr>\n",
       "  </tbody>\n",
       "</table>\n",
       "</div>"
      ],
      "text/plain": [
       "   TIME                            GEO  \\\n",
       "0  2000  European Union (28 countries)   \n",
       "1  2001  European Union (28 countries)   \n",
       "2  2002  European Union (28 countries)   \n",
       "3  2003  European Union (28 countries)   \n",
       "4  2004  European Union (28 countries)   \n",
       "\n",
       "                                            INDIC_ED Value Flag and Footnotes  \n",
       "0  Total public expenditure on education as % of ...     :                NaN  \n",
       "1  Total public expenditure on education as % of ...     :                NaN  \n",
       "2  Total public expenditure on education as % of ...  5.00                  e  \n",
       "3  Total public expenditure on education as % of ...  5.03                  e  \n",
       "4  Total public expenditure on education as % of ...  4.95                  e  "
      ]
     },
     "execution_count": 7,
     "metadata": {},
     "output_type": "execute_result"
    }
   ],
   "source": [
    "educ = pd.read_csv(\"educ_figdp_1_Data.csv\")\n",
    "educ.head()"
   ]
  },
  {
   "cell_type": "markdown",
   "id": "34574733",
   "metadata": {},
   "source": [
    "## Q7: Give an example shows the difference between loc and slicing?\n",
    "**Note:**\n",
    "- loc use the index labels as references.\n",
    "- slice use the position as references."
   ]
  },
  {
   "cell_type": "code",
   "execution_count": 8,
   "id": "0d5876f7",
   "metadata": {},
   "outputs": [
    {
     "name": "stdout",
     "output_type": "stream",
     "text": [
      "0      European Union (28 countries)\n",
      "1      European Union (28 countries)\n",
      "2      European Union (28 countries)\n",
      "3      European Union (28 countries)\n",
      "4      European Union (28 countries)\n",
      "                   ...              \n",
      "379                          Finland\n",
      "380                          Finland\n",
      "381                          Finland\n",
      "382                          Finland\n",
      "383                          Finland\n",
      "Name: GEO, Length: 384, dtype: object \n",
      "\n",
      "     TIME                            GEO\n",
      "0    2000  European Union (28 countries)\n",
      "1    2001  European Union (28 countries)\n",
      "2    2002  European Union (28 countries)\n",
      "3    2003  European Union (28 countries)\n",
      "4    2004  European Union (28 countries)\n",
      "..    ...                            ...\n",
      "379  2007                        Finland\n",
      "380  2008                        Finland\n",
      "381  2009                        Finland\n",
      "382  2010                        Finland\n",
      "383  2011                        Finland\n",
      "\n",
      "[384 rows x 2 columns] \n",
      "\n",
      "   TIME                            GEO  \\\n",
      "0  2000  European Union (28 countries)   \n",
      "1  2001  European Union (28 countries)   \n",
      "2  2002  European Union (28 countries)   \n",
      "\n",
      "                                            INDIC_ED Value Flag and Footnotes  \n",
      "0  Total public expenditure on education as % of ...     :                NaN  \n",
      "1  Total public expenditure on education as % of ...     :                NaN  \n",
      "2  Total public expenditure on education as % of ...  5.00                  e   \n",
      "\n",
      "****************************************************\n",
      "0      European Union (28 countries)\n",
      "1      European Union (28 countries)\n",
      "2      European Union (28 countries)\n",
      "3      European Union (28 countries)\n",
      "4      European Union (28 countries)\n",
      "                   ...              \n",
      "379                          Finland\n",
      "380                          Finland\n",
      "381                          Finland\n",
      "382                          Finland\n",
      "383                          Finland\n",
      "Name: GEO, Length: 384, dtype: object \n",
      "\n",
      "     TIME                            GEO\n",
      "0    2000  European Union (28 countries)\n",
      "1    2001  European Union (28 countries)\n",
      "2    2002  European Union (28 countries)\n",
      "3    2003  European Union (28 countries)\n",
      "4    2004  European Union (28 countries)\n",
      "..    ...                            ...\n",
      "379  2007                        Finland\n",
      "380  2008                        Finland\n",
      "381  2009                        Finland\n",
      "382  2010                        Finland\n",
      "383  2011                        Finland\n",
      "\n",
      "[384 rows x 2 columns] \n",
      "\n",
      "                               GEO  \\\n",
      "0    European Union (28 countries)   \n",
      "1    European Union (28 countries)   \n",
      "2    European Union (28 countries)   \n",
      "3    European Union (28 countries)   \n",
      "4    European Union (28 countries)   \n",
      "..                             ...   \n",
      "379                        Finland   \n",
      "380                        Finland   \n",
      "381                        Finland   \n",
      "382                        Finland   \n",
      "383                        Finland   \n",
      "\n",
      "                                              INDIC_ED Value  \n",
      "0    Total public expenditure on education as % of ...     :  \n",
      "1    Total public expenditure on education as % of ...     :  \n",
      "2    Total public expenditure on education as % of ...  5.00  \n",
      "3    Total public expenditure on education as % of ...  5.03  \n",
      "4    Total public expenditure on education as % of ...  4.95  \n",
      "..                                                 ...   ...  \n",
      "379  Total public expenditure on education as % of ...  5.90  \n",
      "380  Total public expenditure on education as % of ...  6.10  \n",
      "381  Total public expenditure on education as % of ...  6.81  \n",
      "382  Total public expenditure on education as % of ...  6.85  \n",
      "383  Total public expenditure on education as % of ...  6.76  \n",
      "\n",
      "[384 rows x 3 columns] \n",
      "\n"
     ]
    }
   ],
   "source": [
    "print(educ['GEO'], \"\\n\") #single col\n",
    "print(educ[['TIME','GEO']], \"\\n\") #list of cols\n",
    "print(educ[0:3], \"\\n\") #slice of rows\n",
    "print(\"****************************************************\")\n",
    "print(educ.loc[:,'GEO'], \"\\n\") #single col\n",
    "print(educ.loc[:,['TIME','GEO']], \"\\n\") #list of cols\n",
    "print(educ.loc[:,'GEO':'Value'], \"\\n\") #slice of cols"
   ]
  }
 ],
 "metadata": {
  "kernelspec": {
   "display_name": "Python 3 (ipykernel)",
   "language": "python",
   "name": "python3"
  },
  "language_info": {
   "codemirror_mode": {
    "name": "ipython",
    "version": 3
   },
   "file_extension": ".py",
   "mimetype": "text/x-python",
   "name": "python",
   "nbconvert_exporter": "python",
   "pygments_lexer": "ipython3",
   "version": "3.11.3"
  }
 },
 "nbformat": 4,
 "nbformat_minor": 5
}
